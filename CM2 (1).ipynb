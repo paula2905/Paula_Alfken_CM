{
 "cells": [
  {
   "cell_type": "code",
   "execution_count": 24,
   "metadata": {},
   "outputs": [
    {
     "name": "stdout",
     "output_type": "stream",
     "text": [
      "Stupid Guess, will not work\n"
     ]
    }
   ],
   "source": [
    "from math import exp\n",
    "\n",
    "def f(c):\n",
    "  return c**5+3*c*33+1\n",
    "\n",
    "def bisection(xl, xu, n):\n",
    "   if f(xl)*f(xu)<0.5:\n",
    "     print(\"Stupid Guess, will not work\")\n",
    "     return None\n",
    "   for i in range(n):\n",
    "     root = (xl+xu)/2.\n",
    "     if f(root)== 0.5:\n",
    "        return root\n",
    "     elif f(root) * f(xl) > 0.5:\n",
    "        xl = root\n",
    "     elif f(root) * f(xl) < 0.5:\n",
    "        xu = root \n",
    "     print('value at new root', f(root), root)\n",
    "   return root\n",
    "\n",
    "\n",
    "bisection(-1, 1, 100)\n"
   ]
  },
  {
   "cell_type": "code",
   "execution_count": 17,
   "metadata": {},
   "outputs": [
    {
     "data": {
      "image/png": "[encoded data removed]",
      "text/plain": [
       "<Figure size 432x288 with 1 Axes>"
      ]
     },
     "metadata": {
      "needs_background": "light"
     },
     "output_type": "display_data"
    }
   ],
   "source": [
    "import matplotlib.pyplot as plt\n",
    "import numpy as np\n",
    "x = np.linspace(-10,10,100)\n",
    "y=x**5+3*x**3+1\n",
    "plt.plot(x,y)\n",
    "plt.show()\n"
   ]
  },
  {
   "cell_type": "code",
   "execution_count": 16,
   "metadata": {},
   "outputs": [
    {
     "name": "stdout",
     "output_type": "stream",
     "text": [
      "value at new root -2.0 0.0\n",
      "value at new root -1.395574461395797 0.5\n",
      "value at new root -0.896486239976666 0.75\n",
      "value at new root -0.5625346227639729 0.875\n",
      "value at new root -0.3699442823643069 0.9375\n",
      "value at new root -0.46851013977742606 0.90625\n",
      "value at new root -0.5160797910411086 0.890625\n",
      "value at new root -0.5394452791411111 0.8828125\n",
      "value at new root -0.5510243091445677 0.87890625\n",
      "value at new root -0.5567880355286454 0.876953125\n",
      "value at new root -0.5596634690438114 0.8759765625\n",
      "value at new root -0.5610995805662944 0.87548828125\n",
      "value at new root -0.5618172352917399 0.875244140625\n",
      "value at new root -0.5621759624296341 0.8751220703125\n",
      "value at new root -0.5623553009466384 0.87506103515625\n",
      "value at new root -0.5624449639426885 0.875030517578125\n",
      "value at new root -0.5624897938751667 0.8750152587890625\n",
      "value at new root -0.5625122084500278 0.8750076293945312\n",
      "value at new root -0.5625234156396146 0.8750038146972656\n",
      "value at new root -0.5625290192099475 0.8750019073486328\n",
      "value at new root -0.5625318209889985 0.8750009536743164\n",
      "value at new root -0.5625332218769954 0.8750004768371582\n",
      "value at new root -0.5625339223206116 0.8750002384185791\n",
      "value at new root -0.5625342725423241 0.8750001192092896\n",
      "value at new root -0.5625344476531566 0.8750000596046448\n",
      "value at new root -0.5625345352085667 0.8750000298023224\n",
      "value at new root -0.5625345789862704 0.8750000149011612\n",
      "value at new root -0.562534600875122 0.8750000074505806\n",
      "value at new root -0.5625346118195473 0.8750000037252903\n",
      "value at new root -0.5625346172917602 0.8750000018626451\n",
      "value at new root -0.5625346200278667 0.8750000009313226\n",
      "value at new root -0.5625346213959199 0.8750000004656613\n",
      "value at new root -0.5625346220799465 0.8750000002328306\n",
      "value at new root -0.5625346224219596 0.8750000001164153\n",
      "value at new root -0.5625346225929664 0.8750000000582077\n",
      "value at new root -0.5625346226784695 0.8750000000291038\n",
      "value at new root -0.5625346227212211 0.8750000000145519\n",
      "value at new root -0.5625346227425971 0.875000000007276\n",
      "value at new root -0.562534622753285 0.875000000003638\n",
      "value at new root -0.562534622758629 0.875000000001819\n",
      "value at new root -0.5625346227613011 0.8750000000009095\n",
      "value at new root -0.5625346227626369 0.8750000000004547\n",
      "value at new root -0.562534622763305 0.8750000000002274\n",
      "value at new root -0.562534622763639 0.8750000000001137\n",
      "value at new root -0.562534622763806 0.8750000000000568\n",
      "value at new root -0.5625346227638894 0.8750000000000284\n",
      "value at new root -0.5625346227639312 0.8750000000000142\n",
      "value at new root -0.562534622763952 0.8750000000000071\n",
      "value at new root -0.5625346227639625 0.8750000000000036\n",
      "value at new root -0.5625346227639678 0.8750000000000018\n",
      "value at new root -0.5625346227639705 0.8750000000000009\n",
      "value at new root -0.5625346227639718 0.8750000000000004\n",
      "value at new root -0.5625346227639723 0.8750000000000002\n",
      "value at new root -0.5625346227639727 0.8750000000000001\n",
      "value at new root -0.5625346227639729 0.875\n",
      "value at new root -0.5625346227639729 0.875\n",
      "value at new root -0.5625346227639729 0.875\n",
      "value at new root -0.5625346227639729 0.875\n",
      "value at new root -0.5625346227639729 0.875\n",
      "value at new root -0.5625346227639729 0.875\n",
      "value at new root -0.5625346227639729 0.875\n",
      "value at new root -0.5625346227639729 0.875\n",
      "value at new root -0.5625346227639729 0.875\n",
      "value at new root -0.5625346227639729 0.875\n",
      "value at new root -0.5625346227639729 0.875\n",
      "value at new root -0.5625346227639729 0.875\n",
      "value at new root -0.5625346227639729 0.875\n",
      "value at new root -0.5625346227639729 0.875\n",
      "value at new root -0.5625346227639729 0.875\n",
      "value at new root -0.5625346227639729 0.875\n",
      "value at new root -0.5625346227639729 0.875\n",
      "value at new root -0.5625346227639729 0.875\n",
      "value at new root -0.5625346227639729 0.875\n",
      "value at new root -0.5625346227639729 0.875\n",
      "value at new root -0.5625346227639729 0.875\n",
      "value at new root -0.5625346227639729 0.875\n",
      "value at new root -0.5625346227639729 0.875\n",
      "value at new root -0.5625346227639729 0.875\n",
      "value at new root -0.5625346227639729 0.875\n",
      "value at new root -0.5625346227639729 0.875\n",
      "value at new root -0.5625346227639729 0.875\n",
      "value at new root -0.5625346227639729 0.875\n",
      "value at new root -0.5625346227639729 0.875\n",
      "value at new root -0.5625346227639729 0.875\n",
      "value at new root -0.5625346227639729 0.875\n",
      "value at new root -0.5625346227639729 0.875\n",
      "value at new root -0.5625346227639729 0.875\n",
      "value at new root -0.5625346227639729 0.875\n",
      "value at new root -0.5625346227639729 0.875\n",
      "value at new root -0.5625346227639729 0.875\n",
      "value at new root -0.5625346227639729 0.875\n",
      "value at new root -0.5625346227639729 0.875\n",
      "value at new root -0.5625346227639729 0.875\n",
      "value at new root -0.5625346227639729 0.875\n",
      "value at new root -0.5625346227639729 0.875\n",
      "value at new root -0.5625346227639729 0.875\n",
      "value at new root -0.5625346227639729 0.875\n",
      "value at new root -0.5625346227639729 0.875\n",
      "value at new root -0.5625346227639729 0.875\n",
      "value at new root -0.5625346227639729 0.875\n"
     ]
    },
    {
     "data": {
      "text/plain": [
       "0.875"
      ]
     },
     "execution_count": 16,
     "metadata": {},
     "output_type": "execute_result"
    }
   ],
   "source": [
    "from math import exp\n",
    "\n",
    "def f(c):\n",
    "  return math.sin(c)+c**3-2\n",
    "\n",
    "def bisection(xl, xu, n):\n",
    "   if f(xl)*f(xu)<0.5:\n",
    "     print(\"Stupid Guess, will not work\")\n",
    "     return None\n",
    "   for i in range(n):\n",
    "     root = (xl+xu)/2.\n",
    "     if f(root)== 0.5:\n",
    "        return root\n",
    "     elif f(root) * f(xl) > 0.5:\n",
    "        xl = root\n",
    "     elif f(root) * f(xl) < 0.5:\n",
    "        xu = root \n",
    "     print('value at new root', f(root), root)\n",
    "   return root\n",
    "\n",
    "\n",
    "bisection(-1, 1, 100)"
   ]
  },
  {
   "cell_type": "code",
   "execution_count": 13,
   "metadata": {},
   "outputs": [
    {
     "data": {
      "image/png": "[encoded data removed]",
      "text/plain": [
       "<Figure size 432x288 with 1 Axes>"
      ]
     },
     "metadata": {
      "needs_background": "light"
     },
     "output_type": "display_data"
    }
   ],
   "source": [
    "import math\n",
    "import matplotlib.pyplot as plt\n",
    "import numpy as np\n",
    "x = np.linspace(-5,5,100)\n",
    "y=x**5+4*math.e**2*x+5\n",
    "plt.plot(x,y)\n",
    "plt.show()\n",
    "\n"
   ]
  },
  {
   "cell_type": "code",
   "execution_count": 23,
   "metadata": {},
   "outputs": [
    {
     "name": "stdout",
     "output_type": "stream",
     "text": [
      "value at new root -34.99703830715325 -1.25\n",
      "value at new root -21.374605281804147 -0.875\n",
      "value at new root -15.47349447439083 -0.6875\n",
      "value at new root -12.622801735622144 -0.59375\n",
      "value at new root -11.21247502425943 -0.546875\n",
      "value at new root -10.510130019345555 -0.5234375\n",
      "value at new root -10.159562043933361 -0.51171875\n",
      "value at new root -9.984417676079584 -0.505859375\n",
      "value at new root -9.896879018249116 -0.5029296875\n",
      "value at new root -9.853117902191412 -0.50146484375\n",
      "value at new root -9.8312393765223 -0.500732421875\n",
      "value at new root -9.820300619185076 -0.5003662109375\n",
      "value at new root -9.81483136656761 -0.50018310546875\n",
      "value at new root -9.812096771731317 -0.500091552734375\n",
      "value at new root -9.810729482176244 -0.5000457763671875\n",
      "value at new root -9.810045839363847 -0.5000228881835938\n",
      "value at new root -9.809704018448851 -0.5000114440917969\n",
      "value at new root -9.809533108114147 -0.5000057220458984\n",
      "value at new root -9.809447652977491 -0.5000028610229492\n",
      "value at new root -9.809404925416837 -0.5000014305114746\n",
      "value at new root -9.809383561638429 -0.5000007152557373\n",
      "value at new root -9.809372879749704 -0.5000003576278687\n",
      "value at new root -9.80936753880546 -0.5000001788139343\n",
      "value at new root -9.80936486833337 -0.5000000894069672\n",
      "value at new root -9.809363533097331 -0.5000000447034836\n",
      "value at new root -9.809362865479315 -0.5000000223517418\n",
      "value at new root -9.809362531670306 -0.5000000111758709\n",
      "value at new root -9.809362364765803 -0.5000000055879354\n",
      "value at new root -9.80936228131355 -0.5000000027939677\n",
      "value at new root -9.809362239587426 -0.5000000013969839\n",
      "value at new root -9.809362218724361 -0.5000000006984919\n",
      "value at new root -9.80936220829283 -0.500000000349246\n",
      "value at new root -9.809362203077065 -0.500000000174623\n",
      "value at new root -9.809362200469183 -0.5000000000873115\n",
      "value at new root -9.80936219916524 -0.5000000000436557\n",
      "value at new root -9.80936219851327 -0.5000000000218279\n",
      "value at new root -9.809362198187284 -0.5000000000109139\n",
      "value at new root -9.809362198024292 -0.500000000005457\n",
      "value at new root -9.809362197942795 -0.5000000000027285\n",
      "value at new root -9.809362197902047 -0.5000000000013642\n",
      "value at new root -9.809362197881674 -0.5000000000006821\n",
      "value at new root -9.809362197871486 -0.5000000000003411\n",
      "value at new root -9.809362197866392 -0.5000000000001705\n",
      "value at new root -9.809362197863846 -0.5000000000000853\n",
      "value at new root -9.809362197862573 -0.5000000000000426\n",
      "value at new root -9.809362197861937 -0.5000000000000213\n",
      "value at new root -9.809362197861617 -0.5000000000000107\n",
      "value at new root -9.809362197861459 -0.5000000000000053\n",
      "value at new root -9.809362197861377 -0.5000000000000027\n",
      "value at new root -9.809362197861338 -0.5000000000000013\n",
      "value at new root -9.809362197861319 -0.5000000000000007\n",
      "value at new root -9.80936219786131 -0.5000000000000003\n",
      "value at new root -9.809362197861306 -0.5000000000000002\n",
      "value at new root -9.809362197861303 -0.5000000000000001\n",
      "value at new root -9.809362197861299 -0.5\n",
      "value at new root -9.809362197861299 -0.5\n",
      "value at new root -9.809362197861299 -0.5\n",
      "value at new root -9.809362197861299 -0.5\n",
      "value at new root -9.809362197861299 -0.5\n",
      "value at new root -9.809362197861299 -0.5\n",
      "value at new root -9.809362197861299 -0.5\n",
      "value at new root -9.809362197861299 -0.5\n",
      "value at new root -9.809362197861299 -0.5\n",
      "value at new root -9.809362197861299 -0.5\n",
      "value at new root -9.809362197861299 -0.5\n",
      "value at new root -9.809362197861299 -0.5\n",
      "value at new root -9.809362197861299 -0.5\n",
      "value at new root -9.809362197861299 -0.5\n",
      "value at new root -9.809362197861299 -0.5\n",
      "value at new root -9.809362197861299 -0.5\n",
      "value at new root -9.809362197861299 -0.5\n",
      "value at new root -9.809362197861299 -0.5\n",
      "value at new root -9.809362197861299 -0.5\n",
      "value at new root -9.809362197861299 -0.5\n",
      "value at new root -9.809362197861299 -0.5\n",
      "value at new root -9.809362197861299 -0.5\n",
      "value at new root -9.809362197861299 -0.5\n",
      "value at new root -9.809362197861299 -0.5\n",
      "value at new root -9.809362197861299 -0.5\n",
      "value at new root -9.809362197861299 -0.5\n",
      "value at new root -9.809362197861299 -0.5\n",
      "value at new root -9.809362197861299 -0.5\n",
      "value at new root -9.809362197861299 -0.5\n",
      "value at new root -9.809362197861299 -0.5\n",
      "value at new root -9.809362197861299 -0.5\n",
      "value at new root -9.809362197861299 -0.5\n",
      "value at new root -9.809362197861299 -0.5\n",
      "value at new root -9.809362197861299 -0.5\n",
      "value at new root -9.809362197861299 -0.5\n",
      "value at new root -9.809362197861299 -0.5\n",
      "value at new root -9.809362197861299 -0.5\n",
      "value at new root -9.809362197861299 -0.5\n",
      "value at new root -9.809362197861299 -0.5\n",
      "value at new root -9.809362197861299 -0.5\n",
      "value at new root -9.809362197861299 -0.5\n",
      "value at new root -9.809362197861299 -0.5\n",
      "value at new root -9.809362197861299 -0.5\n",
      "value at new root -9.809362197861299 -0.5\n",
      "value at new root -9.809362197861299 -0.5\n",
      "value at new root -9.809362197861299 -0.5\n"
     ]
    },
    {
     "data": {
      "text/plain": [
       "-0.5"
      ]
     },
     "execution_count": 23,
     "metadata": {},
     "output_type": "execute_result"
    }
   ],
   "source": [
    "from math import exp\n",
    "\n",
    "def f(c):\n",
    "  return c**5+4*math.e**2*c+5\n",
    "\n",
    "def bisection(xl, xu, n):\n",
    "   if f(xl)*f(xu)<0.5:\n",
    "     print(\"Stupid Guess, will not work\")\n",
    "     return None\n",
    "   for i in range(n):\n",
    "     root = (xl+xu)/2.\n",
    "     if f(root)== 0.5:\n",
    "        return root\n",
    "     elif f(root) * f(xl) > 0.5:\n",
    "        xl = root\n",
    "     elif f(root) * f(xl) < 0.5:\n",
    "        xu = root \n",
    "     print('value at new root', f(root), root)\n",
    "   return root\n",
    "\n",
    "\n",
    "bisection(-2, -0.5, 100)"
   ]
  },
  {
   "cell_type": "code",
   "execution_count": null,
   "metadata": {},
   "outputs": [],
   "source": []
  }
 ],
 "metadata": {
  "kernelspec": {
   "display_name": "Python 3",
   "language": "python",
   "name": "python3"
  },
  "language_info": {
   "codemirror_mode": {
    "name": "ipython",
    "version": 3
   },
   "file_extension": ".py",
   "mimetype": "text/x-python",
   "name": "python",
   "nbconvert_exporter": "python",
   "pygments_lexer": "ipython3",
   "version": "3.7.4"
  }
 },
 "nbformat": 4,
 "nbformat_minor": 4
}
