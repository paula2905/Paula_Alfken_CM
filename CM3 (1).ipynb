{
 "cells": [
  {
   "cell_type": "code",
   "execution_count": 8,
   "metadata": {},
   "outputs": [
    {
     "name": "stdout",
     "output_type": "stream",
     "text": [
      "the derivative of f is: 2*x - 4\n",
      "The 1 iteration xnull is -1.2 and f(xnull) is 1.6\n",
      "The 2 iteration xnull is -1.0 and f(xnull) is 0.058\n",
      "The 3 iteration xnull is -1.0 and f(xnull) is 9.2e-05\n",
      "The 4 iteration xnull is -1.0 and f(xnull) is 2.4e-10\n",
      "The 5 iteration xnull is -1.0 and f(xnull) is 9.5e-125\n",
      "The 6 iteration xnull is -1.0 and f(xnull) is 9.5e-125\n",
      "The 7 iteration xnull is -1.0 and f(xnull) is 9.5e-125\n",
      "The 8 iteration xnull is -1.0 and f(xnull) is 9.5e-125\n",
      "The 9 iteration xnull is -1.0 and f(xnull) is 9.5e-125\n",
      "The 10 iteration xnull is -1.0 and f(xnull) is 9.5e-125\n"
     ]
    }
   ],
   "source": [
    "# exercise 1:Implement Newton Raphson method for finding the root of equation\n",
    "import sympy as sym\n",
    "import numpy as np\n",
    "\n",
    "def newt(xnull):\n",
    "    x=sym.symbols('x')\n",
    "    f=x**2-4*x-5\n",
    "    fderivative=f.diff(x)\n",
    "    print('the derivative of f is:',fderivative)\n",
    "    for i in range(10):\n",
    "        xnull = xnull - np.float(f.evalf(subs= {x:xnull})) / np.float(fderivative.evalf(subs= {x:xnull})) #xi_plus_1=x_null-f(x_null)/f_dx(x_null) #evalf command for substituting xnull for x\n",
    "        print(f'The {i+1} iteration xnull is {xnull:.2} and f(xnull) is {np.float(f.evalf(subs= {x:xnull})):.2}')\n",
    "newt(0)\n",
    "    \n",
    "    \n"
   ]
  },
  {
   "cell_type": "code",
   "execution_count": null,
   "metadata": {},
   "outputs": [],
   "source": [
    "#2- Use numpy to solve the following set of equations using Cramer’s rule:\n",
    "#3x1 + 4x2 - 3x3 = 5\n",
    "#3x1 - 2x2 + 4x3 = 7\n",
    "#3x1 + 2x2 - x3 = 3"
   ]
  },
  {
   "cell_type": "code",
   "execution_count": 18,
   "metadata": {},
   "outputs": [
    {
     "data": {
      "text/plain": [
       "0.7777777777777777"
      ]
     },
     "execution_count": 18,
     "metadata": {},
     "output_type": "execute_result"
    }
   ],
   "source": [
    "import numpy as np\n",
    "A=np.array([[3,4,3],[3,2,4],[3,2,1]])\n",
    "b=np.array([5,7,3])\n",
    "D=np.linalg.det(A)\n",
    "C=A.copy()\n",
    "C[:,0]=b#replace first comlumn with b\n",
    "C\n",
    "x1=np.linalg.det(C)/D\n",
    "x1"
   ]
  },
  {
   "cell_type": "code",
   "execution_count": 17,
   "metadata": {},
   "outputs": [
    {
     "data": {
      "text/plain": [
       "2.467162276944798e-16"
      ]
     },
     "execution_count": 17,
     "metadata": {},
     "output_type": "execute_result"
    }
   ],
   "source": [
    "C[:,1]=b\n",
    "C\n",
    "x2=np.linalg.det(C)/D\n",
    "x2"
   ]
  },
  {
   "cell_type": "code",
   "execution_count": 19,
   "metadata": {},
   "outputs": [
    {
     "data": {
      "text/plain": [
       "3.947459643111659e-16"
      ]
     },
     "execution_count": 19,
     "metadata": {},
     "output_type": "execute_result"
    }
   ],
   "source": [
    "C[:,2]=b\n",
    "C\n",
    "x3=np.linalg.det(C)/D\n",
    "x3"
   ]
  },
  {
   "cell_type": "code",
   "execution_count": null,
   "metadata": {},
   "outputs": [],
   "source": [
    "#3- How many loops are needed to implement the Gauss Elimination algorithm? State the range of each loop (the start and the end points of each loop)\n",
    "#dyou need 3 loops\n",
    "#first loop over the pivots (move from one pivot to the other, start with first pivot then move to second)\n",
    "#second loop from pivot in the column to the last number in that column\n",
    "#3rd loop over the columns (first column to last column, multiplication)"
   ]
  }
 ],
 "metadata": {
  "kernelspec": {
   "display_name": "Python 3",
   "language": "python",
   "name": "python3"
  },
  "language_info": {
   "codemirror_mode": {
    "name": "ipython",
    "version": 3
   },
   "file_extension": ".py",
   "mimetype": "text/x-python",
   "name": "python",
   "nbconvert_exporter": "python",
   "pygments_lexer": "ipython3",
   "version": "3.7.4"
  }
 },
 "nbformat": 4,
 "nbformat_minor": 4
}
