{
 "cells": [
  {
   "cell_type": "code",
   "execution_count": null,
   "metadata": {},
   "outputs": [],
   "source": [
    "1- Implement linear interpolation using Python\n",
    "2- Implement quadratic interpolation using Python\n",
    "3- Use your implementation (for both linear and quadratic interpolation) to find\n",
    "an approximation to the values of the laser intensities (uploaded in the\n",
    "laser_pulse.txt file on Nestor) at the following points: 2.5e10-10, 1.e-10 and\n",
    "3.e-10.\n",
    "4- Compare your results for both linear and quadratic interpolation with the\n",
    "results you obtain from Scipy library. "
   ]
  },
  {
   "cell_type": "code",
   "execution_count": 1,
   "metadata": {},
   "outputs": [
    {
     "name": "stdout",
     "output_type": "stream",
     "text": [
      "Enter first point:\n"
     ]
    },
    {
     "name": "stdin",
     "output_type": "stream",
     "text": [
      "x0 =  20\n",
      "y0 =  2\n"
     ]
    },
    {
     "name": "stdout",
     "output_type": "stream",
     "text": [
      "Enter second point:\n"
     ]
    },
    {
     "name": "stdin",
     "output_type": "stream",
     "text": [
      "x1 =  35\n",
      "y1 =  4\n",
      "Enter calculation point xp:  30\n"
     ]
    },
    {
     "name": "stdout",
     "output_type": "stream",
     "text": [
      "Interpolated value at 30.0000 is 3.3333\n"
     ]
    }
   ],
   "source": [
    "\n",
    "# Linear interpolation in python\n",
    "\n",
    "# Input section\n",
    "# Reading first point\n",
    "print('Enter first point:')\n",
    "x0 = float(input('x0 = '))\n",
    "y0 = float(input('y0 = '))\n",
    "\n",
    "# Reading second point\n",
    "print('Enter second point:')\n",
    "x1 = float(input('x1 = '))\n",
    "y1 = float(input('y1 = '))\n",
    "\n",
    "# Reading calculation point\n",
    "xp = float(input('Enter calculation point xp: '))\n",
    "\n",
    "# Calculating interpolated value\n",
    "yp = y0 + ((y1-y0)/(x1-x0)) * (xp - x0)\n",
    "\n",
    "# Displaying result\n",
    "print('Interpolated value at %0.4f is %0.4f' %(xp,yp))"
   ]
  },
  {
   "cell_type": "code",
   "execution_count": 6,
   "metadata": {},
   "outputs": [
    {
     "name": "stdout",
     "output_type": "stream",
     "text": [
      "Enter first point:\n"
     ]
    },
    {
     "name": "stdin",
     "output_type": "stream",
     "text": [
      "x0 =  1\n",
      "y0 =  0\n"
     ]
    },
    {
     "name": "stdout",
     "output_type": "stream",
     "text": [
      "Enter second point:\n"
     ]
    },
    {
     "name": "stdin",
     "output_type": "stream",
     "text": [
      "x1 =  4\n",
      "y1 =  1.386\n"
     ]
    },
    {
     "name": "stdout",
     "output_type": "stream",
     "text": [
      "Enter second point:\n"
     ]
    },
    {
     "name": "stdin",
     "output_type": "stream",
     "text": [
      "x1 =  6\n",
      "y1 =  1.792\n",
      "Enter calculation point xp:  2\n"
     ]
    },
    {
     "name": "stdout",
     "output_type": "stream",
     "text": [
      "0.0 0.46199999999999997 -0.05179999999999998\n",
      "Interpolated value at 2.0000 is 0.5656\n"
     ]
    }
   ],
   "source": [
    "#quadratic interpolation\n",
    "# Reading first point\n",
    "print('Enter first point:')\n",
    "x0 = float(input('x0 = '))\n",
    "y0 = float(input('y0 = '))\n",
    "\n",
    "# Reading second point\n",
    "print('Enter second point:')\n",
    "x1 = float(input('x1 = '))\n",
    "y1 = float(input('y1 = '))\n",
    "\n",
    "# Reading second point\n",
    "print('Enter second point:')\n",
    "x2 = float(input('x1 = '))\n",
    "y2 = float(input('y1 = '))\n",
    "\n",
    "# Reading calculation point\n",
    "xp = float(input('Enter calculation point xp: '))\n",
    "\n",
    "b0=y0\n",
    "b1=(y1-y0)/(x1-x0)\n",
    "b2=((y2-y1)/(x2-x1)-(y1-y0)/(x1-x0))/(x2-x0)\n",
    "\n",
    "a0=b0-b1*x0+b2*x0*x1\n",
    "a1=b1-b2*x0-b2*x1\n",
    "a2=b2\n",
    "\n",
    "\n",
    "f2=a0+xp*a1+a2*(xp)**2\n",
    "\n",
    "# Displaying result\n",
    "print(b0,b1,b2)\n",
    "print('Interpolated value at %0.4f is %0.4f' %(xp,f2))"
   ]
  },
  {
   "cell_type": "code",
   "execution_count": 33,
   "metadata": {},
   "outputs": [
    {
     "name": "stdout",
     "output_type": "stream",
     "text": [
      "approx for 2.5e10-10 is: 0.010135768195404304\n",
      "approx for e-10 is: 0.00664501128274157\n",
      "approx for 3.e-10 is: 0.011299353832958547\n",
      "approx for 2.5e10-10 is: -199025351.64154568\n",
      "approx for e-10 is: -199025351.70090008\n",
      "approx for 3.e-10 is: -199025351.62218383\n"
     ]
    }
   ],
   "source": [
    "#3- Use your implementation (for both linear and quadratic interpolation) to find an approximation to the values of the laser intensities (uploaded in thelaser_pulse.txt file on Nestor) at the following points: 2.5e10-10, 1.e-10 and 3.e-10.\n",
    "#2.5e10-10, 1.e-10 and 3.e-10.\n",
    "import pandas as pd\n",
    "from numpy import *\n",
    "x,y= loadtxt('/Users/Paula/Downloads/laser_pulse.txt',unpack=True)\n",
    "len(y)\n",
    "\n",
    "# linear interpolation\n",
    "xp=2.5e-10\n",
    "yp = y[0] + ((y[97]-y[0])/(x[1]-x[0])) * (xp - x[0])\n",
    "print('approx for 2.5e10-10 is:', yp)\n",
    "xp=1.e-10\n",
    "yp = y[0] + ((y[97]-y[0])/(x[1]-x[0])) * (xp - x[0])\n",
    "print('approx for e-10 is:',yp)\n",
    "xp=3.e-10\n",
    "yp = y[0] + ((y[97]-y[0])/(x[1]-x[0])) * (xp - x[0])\n",
    "print('approx for 3.e-10 is:',yp)\n",
    "\n",
    "#quadratic interpolation\n",
    "b0=y[0]\n",
    "b1=(y[50]-y[0])/(x[50]-x[0])\n",
    "b2=((y[97]-y[50])/(x[97]-x[50])-(y[50]-y[0])/(x[50]-x[0]))/(x[97]-x[0])\n",
    "\n",
    "a0=b0-b1*x0+b2*x[0]*x[50]\n",
    "a1=b1-b2*x[0]-b2*x[50]\n",
    "a2=b2\n",
    "\n",
    "xp=2.5e-10\n",
    "f2=a0+xp*a1+a2*(xp)**2\n",
    "print('approx for 2.5e10-10 is:', f2)\n",
    "xp=1.e-10\n",
    "f2=a0+xp*a1+a2*(xp)**2\n",
    "print('approx for e-10 is:',f2)\n",
    "xp=3.e-10\n",
    "f2=a0+xp*a1+a2*(xp)**2\n",
    "print('approx for 3.e-10 is:',f2)\n"
   ]
  },
  {
   "cell_type": "code",
   "execution_count": 31,
   "metadata": {},
   "outputs": [
    {
     "name": "stdout",
     "output_type": "stream",
     "text": [
      "The value of the function at 2.5e-10 0.007416856148557747\n"
     ]
    }
   ],
   "source": [
    "#4 Compare your results for both linear and quadratic interpolation with the\n",
    "#results you obtain from Scipy library. \n",
    "import matplotlib.pyplot as plt\n",
    "import sys\n",
    "from scipy import interpolate\n",
    "#2.5e10-10, 1.e-10 and 3.e-10.\n",
    "f=open('/Users/Paula/Downloads/laser_pulse.txt') #sys.argv[1])\n",
    "x = 2.5e-10 #float(sys.argv[2])\n",
    "t=[]; I=[]\n",
    "for i in f:\n",
    "  k = i.split()\n",
    "  t.append(float(k[0]))\n",
    "  I.append(float(k[1]))\n",
    "\n",
    "Interpolate = interpolate.interp1d(t,I)\n",
    "print('The value of the function at '+ str(x), Interpolate(x))\n",
    "#plt.plot(t,I, marker=11)\n",
    "#plt.show()\n"
   ]
  },
  {
   "cell_type": "code",
   "execution_count": 32,
   "metadata": {},
   "outputs": [
    {
     "ename": "ValueError",
     "evalue": "cannot reshape array of size 0 into shape (0,newaxis)",
     "output_type": "error",
     "traceback": [
      "\u001b[1;31m---------------------------------------------------------------------------\u001b[0m",
      "\u001b[1;31mValueError\u001b[0m                                Traceback (most recent call last)",
      "\u001b[1;32m<ipython-input-32-3fc39751b84a>\u001b[0m in \u001b[0;36m<module>\u001b[1;34m\u001b[0m\n\u001b[0;32m      6\u001b[0m   \u001b[0mI\u001b[0m\u001b[1;33m.\u001b[0m\u001b[0mappend\u001b[0m\u001b[1;33m(\u001b[0m\u001b[0mfloat\u001b[0m\u001b[1;33m(\u001b[0m\u001b[0mk\u001b[0m\u001b[1;33m[\u001b[0m\u001b[1;36m1\u001b[0m\u001b[1;33m]\u001b[0m\u001b[1;33m)\u001b[0m\u001b[1;33m)\u001b[0m\u001b[1;33m\u001b[0m\u001b[1;33m\u001b[0m\u001b[0m\n\u001b[0;32m      7\u001b[0m \u001b[1;33m\u001b[0m\u001b[0m\n\u001b[1;32m----> 8\u001b[1;33m \u001b[0mInterpolate\u001b[0m \u001b[1;33m=\u001b[0m \u001b[0minterpolate\u001b[0m\u001b[1;33m.\u001b[0m\u001b[0minterp1d\u001b[0m\u001b[1;33m(\u001b[0m\u001b[0mt\u001b[0m\u001b[1;33m,\u001b[0m\u001b[0mI\u001b[0m\u001b[1;33m)\u001b[0m\u001b[1;33m\u001b[0m\u001b[1;33m\u001b[0m\u001b[0m\n\u001b[0m\u001b[0;32m      9\u001b[0m \u001b[0mprint\u001b[0m\u001b[1;33m(\u001b[0m\u001b[1;34m'The value of the function at '\u001b[0m\u001b[1;33m+\u001b[0m \u001b[0mstr\u001b[0m\u001b[1;33m(\u001b[0m\u001b[0mx\u001b[0m\u001b[1;33m)\u001b[0m\u001b[1;33m,\u001b[0m \u001b[0mInterpolate\u001b[0m\u001b[1;33m(\u001b[0m\u001b[0mx\u001b[0m\u001b[1;33m)\u001b[0m\u001b[1;33m)\u001b[0m\u001b[1;33m\u001b[0m\u001b[1;33m\u001b[0m\u001b[0m\n\u001b[0;32m     10\u001b[0m \u001b[1;31m#plt.plot(t,I, marker=11)\u001b[0m\u001b[1;33m\u001b[0m\u001b[1;33m\u001b[0m\u001b[1;33m\u001b[0m\u001b[0m\n",
      "\u001b[1;32m~\\Anaconda3\\lib\\site-packages\\scipy\\interpolate\\interpolate.py\u001b[0m in \u001b[0;36m__init__\u001b[1;34m(self, x, y, kind, axis, copy, bounds_error, fill_value, assume_sorted)\u001b[0m\n\u001b[0;32m    466\u001b[0m         \u001b[1;31m# Interpolation goes internally along the first axis\u001b[0m\u001b[1;33m\u001b[0m\u001b[1;33m\u001b[0m\u001b[1;33m\u001b[0m\u001b[0m\n\u001b[0;32m    467\u001b[0m         \u001b[0mself\u001b[0m\u001b[1;33m.\u001b[0m\u001b[0my\u001b[0m \u001b[1;33m=\u001b[0m \u001b[0my\u001b[0m\u001b[1;33m\u001b[0m\u001b[1;33m\u001b[0m\u001b[0m\n\u001b[1;32m--> 468\u001b[1;33m         \u001b[0mself\u001b[0m\u001b[1;33m.\u001b[0m\u001b[0m_y\u001b[0m \u001b[1;33m=\u001b[0m \u001b[0mself\u001b[0m\u001b[1;33m.\u001b[0m\u001b[0m_reshape_yi\u001b[0m\u001b[1;33m(\u001b[0m\u001b[0mself\u001b[0m\u001b[1;33m.\u001b[0m\u001b[0my\u001b[0m\u001b[1;33m)\u001b[0m\u001b[1;33m\u001b[0m\u001b[1;33m\u001b[0m\u001b[0m\n\u001b[0m\u001b[0;32m    469\u001b[0m         \u001b[0mself\u001b[0m\u001b[1;33m.\u001b[0m\u001b[0mx\u001b[0m \u001b[1;33m=\u001b[0m \u001b[0mx\u001b[0m\u001b[1;33m\u001b[0m\u001b[1;33m\u001b[0m\u001b[0m\n\u001b[0;32m    470\u001b[0m         \u001b[1;32mdel\u001b[0m \u001b[0my\u001b[0m\u001b[1;33m,\u001b[0m \u001b[0mx\u001b[0m  \u001b[1;31m# clean up namespace to prevent misuse; use attributes\u001b[0m\u001b[1;33m\u001b[0m\u001b[1;33m\u001b[0m\u001b[0m\n",
      "\u001b[1;32m~\\Anaconda3\\lib\\site-packages\\scipy\\interpolate\\polyint.py\u001b[0m in \u001b[0;36m_reshape_yi\u001b[1;34m(self, yi, check)\u001b[0m\n\u001b[0;32m    109\u001b[0m                                            self._y_extra_shape[:-self._y_axis])\n\u001b[0;32m    110\u001b[0m             \u001b[1;32mraise\u001b[0m \u001b[0mValueError\u001b[0m\u001b[1;33m(\u001b[0m\u001b[1;34m\"Data must be of shape %s\"\u001b[0m \u001b[1;33m%\u001b[0m \u001b[0mok_shape\u001b[0m\u001b[1;33m)\u001b[0m\u001b[1;33m\u001b[0m\u001b[1;33m\u001b[0m\u001b[0m\n\u001b[1;32m--> 111\u001b[1;33m         \u001b[1;32mreturn\u001b[0m \u001b[0myi\u001b[0m\u001b[1;33m.\u001b[0m\u001b[0mreshape\u001b[0m\u001b[1;33m(\u001b[0m\u001b[1;33m(\u001b[0m\u001b[0myi\u001b[0m\u001b[1;33m.\u001b[0m\u001b[0mshape\u001b[0m\u001b[1;33m[\u001b[0m\u001b[1;36m0\u001b[0m\u001b[1;33m]\u001b[0m\u001b[1;33m,\u001b[0m \u001b[1;33m-\u001b[0m\u001b[1;36m1\u001b[0m\u001b[1;33m)\u001b[0m\u001b[1;33m)\u001b[0m\u001b[1;33m\u001b[0m\u001b[1;33m\u001b[0m\u001b[0m\n\u001b[0m\u001b[0;32m    112\u001b[0m \u001b[1;33m\u001b[0m\u001b[0m\n\u001b[0;32m    113\u001b[0m     \u001b[1;32mdef\u001b[0m \u001b[0m_set_yi\u001b[0m\u001b[1;33m(\u001b[0m\u001b[0mself\u001b[0m\u001b[1;33m,\u001b[0m \u001b[0myi\u001b[0m\u001b[1;33m,\u001b[0m \u001b[0mxi\u001b[0m\u001b[1;33m=\u001b[0m\u001b[1;32mNone\u001b[0m\u001b[1;33m,\u001b[0m \u001b[0maxis\u001b[0m\u001b[1;33m=\u001b[0m\u001b[1;32mNone\u001b[0m\u001b[1;33m)\u001b[0m\u001b[1;33m:\u001b[0m\u001b[1;33m\u001b[0m\u001b[1;33m\u001b[0m\u001b[0m\n",
      "\u001b[1;31mValueError\u001b[0m: cannot reshape array of size 0 into shape (0,newaxis)"
     ]
    }
   ],
   "source": [
    "x = 1.0e-10 #float(sys.argv[2])\n",
    "t=[]; I=[]\n",
    "for i in f:\n",
    "  k = i.split()\n",
    "  t.append(float(k[0]))\n",
    "  I.append(float(k[1]))\n",
    "\n",
    "Interpolate = interpolate.interp1d(t,I)\n",
    "print('The value of the function at '+ str(x), Interpolate(x))\n",
    "#plt.plot(t,I, marker=11)\n",
    "#plt.show()\n",
    "\n",
    "x = 3.0e-10 #float(sys.argv[2])\n",
    "t=[]; I=[]\n",
    "for i in f:\n",
    "  k = i.split()\n",
    "  t.append(float(k[0]))\n",
    "  I.append(float(k[1]))\n",
    "\n",
    "Interpolate = interpolate.interp1d(t,I)\n",
    "print('The value of the function at '+ str(x), Interpolate(x))\n",
    "#plt.plot(t,I, marker=11)\n",
    "#plt.show()"
   ]
  },
  {
   "cell_type": "code",
   "execution_count": null,
   "metadata": {},
   "outputs": [],
   "source": []
  }
 ],
 "metadata": {
  "kernelspec": {
   "display_name": "Python 3",
   "language": "python",
   "name": "python3"
  },
  "language_info": {
   "codemirror_mode": {
    "name": "ipython",
    "version": 3
   },
   "file_extension": ".py",
   "mimetype": "text/x-python",
   "name": "python",
   "nbconvert_exporter": "python",
   "pygments_lexer": "ipython3",
   "version": "3.7.4"
  }
 },
 "nbformat": 4,
 "nbformat_minor": 4
}
